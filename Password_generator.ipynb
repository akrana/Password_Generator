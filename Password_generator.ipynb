{
 "cells": [
  {
   "cell_type": "code",
   "execution_count": 2,
   "metadata": {},
   "outputs": [
    {
     "name": "stdout",
     "output_type": "stream",
     "text": [
      "Enter the length of pass you want :5\n",
      "d7>?4\n"
     ]
    }
   ],
   "source": [
    "import random\n",
    "import string\n",
    "\n",
    "\n",
    "length = int(input(\"Enter the length of pass you want :\"))\n",
    "count = 0\n",
    "passwd = \"\"\n",
    "\n",
    "for i in range(1,length+1):\n",
    "\n",
    "    letter = [random.choice(string.ascii_letters)]\n",
    "    number = [random.choice(string.digits)]\n",
    "    symbol = [random.choice(string.punctuation)]\n",
    "\n",
    "    ls = letter+number+symbol\n",
    "    passwd+=random.choice(ls)\n",
    "    count+=1\n",
    "\n",
    "\n",
    "print(passwd)"
   ]
  },
  {
   "cell_type": "code",
   "execution_count": null,
   "metadata": {},
   "outputs": [],
   "source": []
  },
  {
   "cell_type": "code",
   "execution_count": null,
   "metadata": {},
   "outputs": [],
   "source": []
  }
 ],
 "metadata": {
  "kernelspec": {
   "display_name": "Python 3",
   "language": "python",
   "name": "python3"
  },
  "language_info": {
   "codemirror_mode": {
    "name": "ipython",
    "version": 3
   },
   "file_extension": ".py",
   "mimetype": "text/x-python",
   "name": "python",
   "nbconvert_exporter": "python",
   "pygments_lexer": "ipython3",
   "version": "3.7.4"
  }
 },
 "nbformat": 4,
 "nbformat_minor": 2
}
